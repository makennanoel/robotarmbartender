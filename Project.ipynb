{
 "cells": [
  {
   "cell_type": "code",
   "execution_count": 1,
   "metadata": {},
   "outputs": [],
   "source": [
    "#!/usr/bin/env python3\n",
    "#coding=utf-8\n",
    "import time\n",
    "from Arm_Lib import Arm_Device\n",
    "\n",
    "# Create robot arm object\n",
    "Arm = Arm_Device()\n",
    "time.sleep(.1)\n",
    "\n",
    "#Defining variables\n",
    "angle = 90\n",
    "s_time = 1000 #milliseconds"
   ]
  },
  {
   "cell_type": "code",
   "execution_count": null,
   "metadata": {},
   "outputs": [],
   "source": [
    "def home_to_cupstack():\n",
    "    Arm.Arm_serial_servo_write6(angle, angle, angle, angle, angle, angle-90, s_time)\n",
    "    time.sleep(1) #one sec delay\n",
    "    Arm.Arm_serial_servo_write6(angle-90, angle, angle, angle, angle, angle-90, s_time)\n",
    "    time.sleep(1) #one sec delay\n",
    "    Arm.Arm_serial_servo_write6(angle-90, angle-45, angle, angle, angle, angle-90, s_time)\n",
    "    time.sleep(1) #one sec delay\n",
    "    Arm.Arm_serial_servo_write6(angle-90, angle-45, angle-90, angle+45, angle, angle-90, s_time)\n",
    "    time.sleep(1) #one sec delay\n",
    "    Arm.Arm_serial_servo_write6(angle-90, angle-45, angle-90, angle+45, angle, angle+90, s_time) #gripper closing \n",
    "    time.sleep(1) #one sec delay\n",
    "    Arm.Arm_serial_servo_write6(angle-90, angle-30, angle-75, angle+25, angle, angle+90, s_time) #lifting cup straight up\n",
    "    time.sleep(1) #one sec delay"
   ]
  },
  {
   "cell_type": "code",
   "execution_count": null,
   "metadata": {},
   "outputs": [],
   "source": [
    "def cupstack_to_dispenser():\n",
    "    "
   ]
  },
  {
   "cell_type": "code",
   "execution_count": 2,
   "metadata": {},
   "outputs": [],
   "source": [
    "def main():\n",
    "    home_to_cupstack() #(FK)\n",
    "    cupstack_to_dispenser() #(IK)\n",
    "    push_to_dispense() #(FK)pushes button to dispense drink \n",
    "    button_to_dispenser() #(IK)fter a certain amount of time the arm will grab the cup from under the dispenser \n",
    "    your_drink() #(IK)arm fancily shows the user the cup it just poured  \n",
    "    \n",
    "try :\n",
    "    main()\n",
    "except KeyboardInterrupt:\n",
    "     print(\" Program closed! \")\n",
    "     pass"
   ]
  },
  {
   "cell_type": "code",
   "execution_count": null,
   "metadata": {},
   "outputs": [],
   "source": []
  },
  {
   "cell_type": "code",
   "execution_count": null,
   "metadata": {},
   "outputs": [],
   "source": []
  },
  {
   "cell_type": "code",
   "execution_count": null,
   "metadata": {},
   "outputs": [],
   "source": []
  }
 ],
 "metadata": {
  "kernelspec": {
   "display_name": "Python 3",
   "language": "python",
   "name": "python3"
  },
  "language_info": {
   "codemirror_mode": {
    "name": "ipython",
    "version": 3
   },
   "file_extension": ".py",
   "mimetype": "text/x-python",
   "name": "python",
   "nbconvert_exporter": "python",
   "pygments_lexer": "ipython3",
   "version": "3.6.9"
  }
 },
 "nbformat": 4,
 "nbformat_minor": 4
}
