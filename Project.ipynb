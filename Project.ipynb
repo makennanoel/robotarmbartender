{
 "cells": [
  {
   "cell_type": "code",
   "execution_count": 1,
   "metadata": {},
   "outputs": [],
   "source": [
    "#!/usr/bin/env python3\n",
    "#coding=utf-8\n",
    "import time\n",
    "from Arm_Lib import Arm_Device\n",
    "from ikpy.chain import Chain #ik\n",
    "\n",
    "# Create robot arm object\n",
    "Arm = Arm_Device()\n",
    "time.sleep(.1) #tenth of a second delay\n",
    "\n",
    "#Defining variables\n",
    "angle = 90\n",
    "s_time = 1000 #milliseconds\n",
    "gripper = 6"
   ]
  },
  {
   "cell_type": "code",
   "execution_count": null,
   "metadata": {},
   "outputs": [],
   "source": [
    "def home(): #set arm to home position after task is complete. Useful for ik\n",
    "    Arm.Arm_serial_servo_write6(angle, angle, angle, angle, angle, angle-90, s_time)"
   ]
  },
  {
   "cell_type": "code",
   "execution_count": null,
   "metadata": {
    "scrolled": true
   },
   "outputs": [],
   "source": [
    "# Defining a kinematic chain with 6 URDFLinks detailing the base and 5 moving links with their respective positions in meters, orientations, and rotation axes. Values are based off home function.\n",
    "dof_chain = chain.Chain(links=[\n",
    "    link.URDFLink(\n",
    "      name=\"base\",\n",
    "      translation_vector=[0, 0, 0], #distance from previous joint to current joint in 3D space \n",
    "      orientation=[0, 0, 0], #rotation angles\n",
    "      rotation=[0, 0, 1], #capability of rotation, for base use z-axis to define the axis around which any potential rotation could occur if it were not fixed. The base itself does not actually rotate but is the reference point from which all other rotations are calculated.\n",
    "    ),\n",
    "    link.URDFLink(\n",
    "      name=\"first_link\",\n",
    "      translation_vector=[0, 0, 0.5], # meters from base\n",
    "      orientation=[0, 0, 0],\n",
    "      rotation=[0, 1, 0],\n",
    "    ),\n",
    "    link.URDFLink(\n",
    "      name=\"second_link\",\n",
    "      translation_vector=[0, 0, 0.5], # meters from first link \n",
    "      orientation=[0, 0, 0],\n",
    "      rotation=[0, 1, 0],\n",
    "    ),\n",
    "    link.URDFLink(\n",
    "      name=\"third_link\",\n",
    "      translation_vector=[0, 0, 0.5], # meters from second link\n",
    "      orientation=[0, 0, 0],\n",
    "      rotation=[0, 1, 0],\n",
    "    ),\n",
    "    link.URDFLink(\n",
    "      name=\"fourth_link\",\n",
    "      translation_vector=[0, 0, 0.5], # meters from third link \n",
    "      orientation=[0, 0, 0],\n",
    "      rotation=[0, 1, 0],\n",
    "    ),\n",
    "    link.URDFLink(\n",
    "      name=\"fifth_link\",\n",
    "      translation_vector=[0, 0, 0.5], # meters from fourth link\n",
    "      orientation=[0, 0, 0],\n",
    "      rotation=[0, 1, 0],\n",
    "    ),\n",
    "], active_links_mask=[False]) # This parameter is a list of booleans indicating whether a link is active (i.e., whether it should be considered during the inverse kinematics computation). For example, if you have a fixed base that should not move, you mark it as False. An active link (one that moves) is marked as True."
   ]
  },
  {
   "cell_type": "code",
   "execution_count": null,
   "metadata": {},
   "outputs": [],
   "source": [
    "def convert_to_servo_commands():\n",
    "    "
   ]
  },
  {
   "cell_type": "code",
   "execution_count": 2,
   "metadata": {},
   "outputs": [],
   "source": [
    "def home_to_cupstack():\n",
    "    Arm.Arm_serial_servo_write6(angle-90, angle, angle, angle, angle, angle-90, s_time)\n",
    "    time.sleep(1) \n",
    "    Arm.Arm_serial_servo_write6(angle-90, angle-45, angle, angle, angle, angle-90, s_time)\n",
    "    time.sleep(1) \n",
    "    Arm.Arm_serial_servo_write6(angle-90, angle-45, angle-90, angle+45, angle, angle-90, s_time)\n",
    "    time.sleep(1) \n",
    "    Arm.Arm_serial_servo_write6(angle-90, angle-45, angle-90, angle+45, angle, angle+90, s_time) #gripper closing \n",
    "    time.sleep(1) \n",
    "    Arm.Arm_serial_servo_write6(angle-90, angle-30, angle-75, angle+25, angle, angle+90, s_time) #lifting cup straight up\n",
    "    time.sleep(1)   "
   ]
  },
  {
   "cell_type": "code",
   "execution_count": 1,
   "metadata": {},
   "outputs": [],
   "source": [
    "def cupstack_to_dispenser():\n",
    "    # Define target position\n",
    "    target_vector = [0.1, 0.1, 0.1] # Desired position of the gripper relative to the base frame, which is at [0, 0, 0]\n",
    "    target_frame = np.eye(4) # 4x4 matrix for Rot, Pos and an extra dimension for homogeneous coordinates\n",
    "    #do we need a line for defining the rotations of target frame? \n",
    "    target_frame[:3, 3] = target_vector # Selects the first three elements of the fourth column of the target_frame matrix representing the position in space.\n",
    "    \n",
    "    #function within ikpy that takes the setup chain and does the math for ik to reach specified target\n",
    "    ik = dof_chain.inverse_kinematics(target_frame) # Compute the inverse kinematics\n",
    "\n",
    "    # Translate IK angles to servo commands\n",
    "    servo_angles = convert_to_servo_commands(ik)\n",
    "    Arm.Arm_serial_servo_write6(*servo_angles, s_time) # '*' because servo_angles holds a list of angles when storing convert_to_servo_commands(ik)\n",
    "    \n",
    "    time.sleep(5) #five sec delay to allow for whole arm to move  \n",
    "\n",
    "    #Release cup\n",
    "    Arm.Arm_serial_servo_write(gripper, angle-90, s_time)\n",
    "    time.sleep(1)  \n",
    "    "
   ]
  },
  {
   "cell_type": "code",
   "execution_count": 2,
   "metadata": {},
   "outputs": [],
   "source": [
    "def main():\n",
    "    home()\n",
    "    time.sleep(1) #one sec delay\n",
    "    home_to_cupstack() #(FK)\n",
    "    home()\n",
    "    time.sleep(1) \n",
    "    cupstack_to_dispenser() #(IK)\n",
    "    push_to_dispense() #(FK) pushes button to dispense drink \n",
    "    home()\n",
    "    time.sleep(1) \n",
    "    your_drink() #(IK) after a certain amount of time the arm will grab the cup from under the dispenser and the arm will fancily show the user the cup it just poured  \n",
    "    \n",
    "try :\n",
    "    main()\n",
    "except KeyboardInterrupt:\n",
    "     print(\" Program closed! \")\n",
    "     pass"
   ]
  },
  {
   "cell_type": "code",
   "execution_count": null,
   "metadata": {},
   "outputs": [],
   "source": []
  },
  {
   "cell_type": "code",
   "execution_count": null,
   "metadata": {},
   "outputs": [],
   "source": []
  },
  {
   "cell_type": "code",
   "execution_count": null,
   "metadata": {},
   "outputs": [],
   "source": []
  }
 ],
 "metadata": {
  "kernelspec": {
   "display_name": "Python 3 (ipykernel)",
   "language": "python",
   "name": "python3"
  },
  "language_info": {
   "codemirror_mode": {
    "name": "ipython",
    "version": 3
   },
   "file_extension": ".py",
   "mimetype": "text/x-python",
   "name": "python",
   "nbconvert_exporter": "python",
   "pygments_lexer": "ipython3",
   "version": "3.10.11"
  }
 },
 "nbformat": 4,
 "nbformat_minor": 4
}
