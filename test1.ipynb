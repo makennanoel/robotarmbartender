{
 "cells": [
  {
   "cell_type": "code",
   "execution_count": null,
   "id": "5707ab4e-3a2a-441c-b0f8-41aeec353b13",
   "metadata": {},
   "outputs": [],
   "source": [
    "#!/usr/bin/env python3\n",
    "#coding=utf-8\n",
    "import time\n",
    "from Arm_Lib import Arm_Device\n",
    " \n",
    "# Get a robotic arm object\n",
    "Arm = Arm_Device()\n",
    "time.sleep(.1)\n",
    "\n",
    "#Defining variables\n",
    "angle = 90\n",
    "weird_angle = 0\n",
    "s_time = 500"
   ]
  },
  {
   "cell_type": "code",
   "execution_count": null,
   "id": "ad9c1cee-bae9-4357-b2d8-60eaa9785836",
   "metadata": {},
   "outputs": [],
   "source": [
    "# Control six servos at the same time, gradually changing the angle.\n",
    "def ctrl_all_servo(angle, s_time):\n",
    "    Arm.Arm_serial_servo_write6(angle, angle, angle, angle, angle, angle, s_time)\n",
    "    time.sleep(s_time/1000) #delay"
   ]
  }
 ],
 "metadata": {
  "kernelspec": {
   "display_name": "Python 3 (ipykernel)",
   "language": "python",
   "name": "python3"
  },
  "language_info": {
   "codemirror_mode": {
    "name": "ipython",
    "version": 3
   },
   "file_extension": ".py",
   "mimetype": "text/x-python",
   "name": "python",
   "nbconvert_exporter": "python",
   "pygments_lexer": "ipython3",
   "version": "3.11.0"
  }
 },
 "nbformat": 4,
 "nbformat_minor": 5
}
